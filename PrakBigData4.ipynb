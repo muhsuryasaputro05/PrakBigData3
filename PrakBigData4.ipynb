{
 "cells": [
  {
   "cell_type": "markdown",
   "metadata": {},
   "source": [
    "Implementasi Sederhana: Word Count"
   ]
  },
  {
   "cell_type": "code",
   "execution_count": 3,
   "metadata": {},
   "outputs": [
    {
     "name": "stdout",
     "output_type": "stream",
     "text": [
      "Kuliah: 1\n",
      "di: 2\n",
      "bidang: 1\n",
      "teknologi: 4\n",
      "informasi: 1\n",
      "menawarkan: 1\n",
      "peluang: 1\n",
      "besar: 1\n",
      "untuk: 2\n",
      "mempelajari: 1\n",
      "berbagai: 1\n",
      "aspek: 1\n",
      "modern: 1\n",
      "seperti: 1\n",
      "pemrograman: 1\n",
      "jaringan: 2\n",
      "keamanan: 1\n",
      "siber: 1\n",
      "dan: 4\n",
      "kecerdasan: 1\n",
      "buatan: 1\n",
      "mahasiswa: 2\n",
      "akan: 3\n",
      "belajar: 1\n",
      "bagaimana: 1\n",
      "mengembangkan: 1\n",
      "perangkat: 1\n",
      "lunak: 1\n",
      "mengelola: 1\n",
      "sistem: 1\n",
      "serta: 2\n",
      "memahami: 1\n",
      "struktur: 1\n",
      "data: 1\n",
      "algoritma: 1\n",
      "selain: 1\n",
      "itu: 1\n",
      "mereka: 1\n",
      "juga: 1\n",
      "dibekali: 1\n",
      "keterampilan: 1\n",
      "analisis: 1\n",
      "pemecahan: 1\n",
      "masalah: 1\n",
      "inovasi: 1\n",
      "dalam: 2\n",
      "melalui: 1\n",
      "tugas: 1\n",
      "praktikum: 1\n",
      "proyek: 1\n",
      "kelompok: 1\n",
      "mampu: 1\n",
      "mengaplikasikan: 1\n",
      "teori: 1\n",
      "ke: 1\n",
      "situasi: 1\n",
      "dunia: 1\n",
      "nyata: 1\n",
      "mempersiapkan: 1\n",
      "diri: 1\n",
      "bekerja: 1\n",
      "industri: 1\n",
      "yang: 1\n",
      "berkembang: 1\n",
      "pesat: 1\n"
     ]
    }
   ],
   "source": [
    "from collections import defaultdict\n",
    "\n",
    "def map_function(text):\n",
    "    for word in text.split():\n",
    "        yield (word, 1)\n",
    "\n",
    "def reduce_function(pairs):\n",
    "    result = defaultdict(int)\n",
    "    for word, count in pairs:\n",
    "        result[word] += count\n",
    "    return result\n",
    "\n",
    "def mapreduce_wordcount(texts):\n",
    "    map_result = []\n",
    "    for text in texts:\n",
    "        map_result.extend(map_function(text))\n",
    "    return reduce_function(map_result)\n",
    "\n",
    "with open(r\"C:\\Users\\hp\\Documents\\KULIAH.txt\", \"r\") as file: \n",
    "    data = file.read()  \n",
    "\n",
    "mapped = mapreduce_wordcount([data])\n",
    "\n",
    "for word, count in mapped.items():\n",
    "    print(f\"{word}: {count}\")\n"
   ]
  },
  {
   "cell_type": "markdown",
   "metadata": {},
   "source": [
    "Custom MapReduce Algorithm"
   ]
  },
  {
   "cell_type": "code",
   "execution_count": 5,
   "metadata": {},
   "outputs": [
    {
     "name": "stdout",
     "output_type": "stream",
     "text": [
      "Jumlah mahasiswa: 24\n",
      "Rata-rata nilai: 82.67\n"
     ]
    }
   ],
   "source": [
    "import csv\n",
    "from collections import defaultdict\n",
    "\n",
    "def map_function(row):\n",
    "    score = int(row[0])  \n",
    "    yield (None, (score, 1))  \n",
    "\n",
    "def reduce_function(pairs):\n",
    "    total_score = 0\n",
    "    total_count = 0\n",
    "    for _, (score, count) in pairs:\n",
    "        total_score += score  \n",
    "        total_count += count \n",
    "    return total_score, total_count\n",
    "\n",
    "def calculate_average(total_score, total_count):\n",
    "    return total_score / total_count if total_count > 0 else 0\n",
    "\n",
    "def mapreduce_average(filename):\n",
    "    map_result = []\n",
    "    with open(filename, newline='') as csvfile:\n",
    "        reader = csv.reader(csvfile)\n",
    "        next(reader) \n",
    "        for row in reader:\n",
    "            map_result.extend(map_function(row))\n",
    "    \n",
    "    total_score, total_count = reduce_function(map_result)\n",
    "    \n",
    "    average = calculate_average(total_score, total_count)\n",
    "    return total_count, average\n",
    "\n",
    "if __name__ == \"__main__\":\n",
    "    # Path ke file CSV di C:\\Users\\hp\\Documents\n",
    "    filename = r'C:\\Users\\hp\\Documents\\nilai.csv' \n",
    "    total_count, average = mapreduce_average(filename)\n",
    "    \n",
    "    # Print hasil jumlah nilai dan rata-rata nilai\n",
    "    print(f\"Jumlah mahasiswa: {total_count}\")\n",
    "    print(f\"Rata-rata nilai: {average:.2f}\")\n"
   ]
  }
 ],
 "metadata": {
  "kernelspec": {
   "display_name": "PrakBigData",
   "language": "python",
   "name": "python3"
  },
  "language_info": {
   "codemirror_mode": {
    "name": "ipython",
    "version": 3
   },
   "file_extension": ".py",
   "mimetype": "text/x-python",
   "name": "python",
   "nbconvert_exporter": "python",
   "pygments_lexer": "ipython3",
   "version": "3.11.9"
  }
 },
 "nbformat": 4,
 "nbformat_minor": 2
}
